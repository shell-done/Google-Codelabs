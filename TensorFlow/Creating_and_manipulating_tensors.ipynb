{
  "nbformat": 4,
  "nbformat_minor": 0,
  "metadata": {
    "colab": {
      "name": "Creating_and_manipulating_tensors.ipynb",
      "provenance": [],
      "collapsed_sections": [
        "JndnmDMp66FL",
        "EYzU56M4MG_x"
      ],
      "include_colab_link": true
    },
    "kernelspec": {
      "name": "python3",
      "display_name": "Python 3"
    }
  },
  "cells": [
    {
      "cell_type": "markdown",
      "metadata": {
        "id": "view-in-github",
        "colab_type": "text"
      },
      "source": [
        "<a href=\"https://colab.research.google.com/github/shell-done/Google-Codelabs/blob/main/TensorFlow/Creating_and_manipulating_tensors.ipynb\" target=\"_parent\"><img src=\"https://colab.research.google.com/assets/colab-badge.svg\" alt=\"Open In Colab\"/></a>"
      ]
    },
    {
      "cell_type": "markdown",
      "metadata": {
        "id": "JndnmDMp66FL"
      },
      "source": [
        "#### Copyright 2017 Google LLC."
      ]
    },
    {
      "cell_type": "code",
      "metadata": {
        "id": "hMqWDc_m6rUC",
        "cellView": "both"
      },
      "source": [
        "# Licensed under the Apache License, Version 2.0 (the \"License\");\n",
        "# you may not use this file except in compliance with the License.\n",
        "# You may obtain a copy of the License at\n",
        "#\n",
        "# https://www.apache.org/licenses/LICENSE-2.0\n",
        "#\n",
        "# Unless required by applicable law or agreed to in writing, software\n",
        "# distributed under the License is distributed on an \"AS IS\" BASIS,\n",
        "# WITHOUT WARRANTIES OR CONDITIONS OF ANY KIND, either express or implied.\n",
        "# See the License for the specific language governing permissions and\n",
        "# limitations under the License."
      ],
      "execution_count": null,
      "outputs": []
    },
    {
      "cell_type": "markdown",
      "metadata": {
        "id": "P0bQXjp499sl"
      },
      "source": [
        " # Créer et manipuler des Tensors"
      ]
    },
    {
      "cell_type": "markdown",
      "metadata": {
        "id": "I3BCiWJiCGsv"
      },
      "source": [
        " **Objectifs de formation** :\n",
        "  * Initialiser et affecter des objets `Variable` TensorFlow\n",
        "  * Créer et manipuler des Tensors\n",
        "  * Rafraîchir ses connaissances sur les opérations de somme et de produit en algèbre linéaire (lecture conseillée de l'introduction à l'[addition](https://fr.wikipedia.org/wiki/Addition_matricielle) et au [produit](https://fr.wikipedia.org/wiki/Produit_matriciel) matriciels, si ces notions vous sont inconnues)\n",
        "  * Se familiariser avec les opérations mathématiques et de tableau basiques dans TensorFlow"
      ]
    },
    {
      "cell_type": "code",
      "metadata": {
        "id": "85evKRsOIC5a",
        "colab": {
          "base_uri": "https://localhost:8080/"
        },
        "outputId": "0628cba3-f1cd-4532-985a-0939498324a5"
      },
      "source": [
        "from __future__ import print_function\n",
        "\n",
        "%tensorflow_version 1.x\n",
        "import tensorflow as tf"
      ],
      "execution_count": 2,
      "outputs": [
        {
          "output_type": "stream",
          "text": [
            "TensorFlow 1.x selected.\n"
          ],
          "name": "stdout"
        }
      ]
    },
    {
      "cell_type": "markdown",
      "metadata": {
        "id": "PT1sorfH-DdQ"
      },
      "source": [
        " ## Somme vectorielle\n",
        "\n",
        "Vous pouvez réaliser de nombreuses opérations mathématiques standards sur les Tensors (reportez-vous à l'[API TensorFlow](https://www.tensorflow.org/api_guides/python/math_ops)). Le code suivant permet de créer et de manipuler deux vecteurs (Tensors à une dimension), constitués chacun de six éléments :"
      ]
    },
    {
      "cell_type": "code",
      "metadata": {
        "id": "ng37e6ur-GZo"
      },
      "source": [
        "with tf.Graph().as_default():\n",
        "  # Create a six-element vector (1-D tensor).\n",
        "  primes = tf.constant([2, 3, 5, 7, 11, 13], dtype=tf.int32)\n",
        "\n",
        "  # Create another six-element vector. Each element in the vector will be\n",
        "  # initialized to 1. The first argument is the shape of the tensor (more\n",
        "  # on shapes below).\n",
        "  ones = tf.ones([6], dtype=tf.int32)\n",
        "\n",
        "  # Add the two vectors. The resulting tensor is a six-element vector.\n",
        "  just_beyond_primes = tf.add(primes, ones)\n",
        "\n",
        "  # Create a session to run the default graph.\n",
        "  with tf.Session() as sess:\n",
        "    print(just_beyond_primes.eval())"
      ],
      "execution_count": null,
      "outputs": []
    },
    {
      "cell_type": "markdown",
      "metadata": {
        "id": "fVvaXzzMGZid"
      },
      "source": [
        " ### Formats de Tensor\n",
        "\n",
        "Le format caractérise la taille et le nombre de dimensions d'un Tensor. Il est indiqué sous la forme d'une liste, où le `i`e élément désigne la taille par rapport à la dimension `i`. La longueur de la liste indique le rang du Tensor (c'est-à-dire le nombre de dimensions).\n",
        "\n",
        "Pour en savoir plus, consultez la [documentation TensorFlow](https://www.tensorflow.org/programmers_guide/tensors#shape).\n",
        "\n",
        "Quelques exemples basiques :"
      ]
    },
    {
      "cell_type": "code",
      "metadata": {
        "id": "PWzvJnIAH_cF",
        "colab": {
          "base_uri": "https://localhost:8080/"
        },
        "outputId": "096f06f2-c674-4bfe-953f-3dd1c391e566"
      },
      "source": [
        "with tf.Graph().as_default():\n",
        "  # A scalar (0-D tensor).\n",
        "  scalar = tf.zeros([])\n",
        "\n",
        "  # A vector with 3 elements.\n",
        "  vector = tf.zeros([3])\n",
        "\n",
        "  # A matrix with 2 rows and 3 columns.\n",
        "  matrix = tf.zeros([2, 3])\n",
        "\n",
        "  with tf.Session() as sess:\n",
        "    print('scalar has shape', scalar.get_shape(), 'and value:\\n', scalar.eval())\n",
        "    print('vector has shape', vector.get_shape(), 'and value:\\n', vector.eval())\n",
        "    print('matrix has shape', matrix.get_shape(), 'and value:\\n', matrix.eval())\n"
      ],
      "execution_count": null,
      "outputs": [
        {
          "output_type": "stream",
          "text": [
            "scalar has shape () and value:\n",
            " 0.0\n",
            "vector has shape (3,) and value:\n",
            " [0. 0. 0.]\n",
            "matrix has shape (2, 3) and value:\n",
            " [[0. 0. 0.]\n",
            " [0. 0. 0.]]\n"
          ],
          "name": "stdout"
        }
      ]
    },
    {
      "cell_type": "markdown",
      "metadata": {
        "id": "musamrLavR5S"
      },
      "source": [
        " ### Broadcasting\n",
        "\n",
        "En mathématiques, les Tensors de format identique peuvent subir uniquement des opérations au niveau de l'élément (opérations *ajouter* et *égal*, par exemple). Dans TensorFlow, en revanche, il est possible de réaliser des opérations traditionnellement incompatibles. ce modèle autorise ainsi le **broadcasting** (un concept emprunté à Numpy), qui permet d'agrandir un petit tableau pour qu'il prenne le même format que le grand tableau. Exemples de possibilités offertes par le broadcasting :\n",
        "\n",
        "* Si une opération exige un Tensor de taille `[6]`, un Tensor de taille `[1]` ou `[]` peut être utilisé comme opérande.\n",
        "* Si une opération exige un Tensor de taille `[4, 6]`, vous pouvez utiliser comme opérande l'une des tailles de Tensor suivantes :\n",
        "  * `[1, 6]`\n",
        "  * `[6]`\n",
        "  * `[]`\n",
        "* Si une opération exige un Tensor de taille `[3, 5, 6]`, vous pouvez utiliser comme opérande l'une des tailles de Tensor suivantes :\n",
        "\n",
        "  * `[1, 5, 6]`\n",
        "  * `[3, 1, 6]`\n",
        "  * `[3, 5, 1]`\n",
        "  * `[1, 1, 1]`\n",
        "  * `[5, 6]`\n",
        "  * `[1, 6]`\n",
        "  * `[6]`\n",
        "  * `[1]`\n",
        "  * `[]`\n",
        "  \n",
        "**REMARQUE** : Lorsqu'un Tensor est broadcasté, ses entrées sont **copiées** de manière conceptuelle. (Elles ne sont pas réellement copiées, pour des raisons liées aux performances. Le broadcasting a été conçu comme un outil d'optimisation des performances.)\n",
        "\n",
        "La [documentation sur le broadcasting Numpy](http://docs.scipy.org/doc/numpy-1.10.1/user/basics.broadcasting.html), qui se veut facile d'accès, fournit une description détaillée de l'ensemble de règles de broadcasting.\n",
        "\n",
        "Le code suivant reprend l'opération de somme de Tensors précédente, cette fois avec le broadcasting :"
      ]
    },
    {
      "cell_type": "code",
      "metadata": {
        "id": "7lys_BeLy2SD"
      },
      "source": [
        "with tf.Graph().as_default():\n",
        "  # Create a six-element vector (1-D tensor).\n",
        "  primes = tf.constant([2, 3, 5, 7, 11, 13], dtype=tf.int32)\n",
        "\n",
        "  # Create a constant scalar with value 1.\n",
        "  ones = tf.constant(1, dtype=tf.int32)\n",
        "\n",
        "  # Add the two tensors. The resulting tensor is a six-element vector.\n",
        "  just_beyond_primes = tf.add(primes, ones)\n",
        "\n",
        "  with tf.Session() as sess:\n",
        "    print(just_beyond_primes.eval())"
      ],
      "execution_count": null,
      "outputs": []
    },
    {
      "cell_type": "markdown",
      "metadata": {
        "id": "it0P-AV0-Jb4"
      },
      "source": [
        " ## Produit matriciel\n",
        "\n",
        "En algèbre linéaire, lorsque vous calculez le produit de deux matrices, le nombre de *colonnes* dans la première doit être égal au nombre de *lignes* dans la seconde.\n",
        "\n",
        "- Une matrice `3x4` **peut** être multipliée par une matrice `4x2`. Vous obtiendrez une matrice `3x2`.\n",
        "- Une matrice `4x2` **ne peut pas** être multipliée par une matrice `3x4`."
      ]
    },
    {
      "cell_type": "code",
      "metadata": {
        "id": "OVR8QPif-MeS",
        "colab": {
          "base_uri": "https://localhost:8080/"
        },
        "outputId": "9b26ddf2-674e-4f87-ab2f-b6433db8aa1a"
      },
      "source": [
        "with tf.Graph().as_default():\n",
        "  # Create a matrix (2-d tensor) with 3 rows and 4 columns.\n",
        "  x = tf.constant([[5, 2, 4, 3], [5, 1, 6, -2], [-1, 3, -1, -2]],\n",
        "                  dtype=tf.int32)\n",
        "\n",
        "  # Create a matrix with 4 rows and 2 columns.\n",
        "  y = tf.constant([[2, 2], [3, 5], [4, 5], [1, 6]], dtype=tf.int32)\n",
        "\n",
        "  # Multiply `x` by `y`. \n",
        "  # The resulting matrix will have 3 rows and 2 columns.\n",
        "  matrix_multiply_result = tf.matmul(x, y)\n",
        "\n",
        "  with tf.Session() as sess:\n",
        "    print(matrix_multiply_result.eval())"
      ],
      "execution_count": null,
      "outputs": [
        {
          "output_type": "stream",
          "text": [
            "[[35 58]\n",
            " [35 33]\n",
            " [ 1 -4]]\n"
          ],
          "name": "stdout"
        }
      ]
    },
    {
      "cell_type": "markdown",
      "metadata": {
        "id": "fziRnmuy-O9x"
      },
      "source": [
        " ## Modification du format des Tensors\n",
        "\n",
        "La somme de Tensors et le produit matriciel sont deux opérations qui imposent des contraintes spécifiques aux opérandes, obligeant ainsi les programmeurs TensorFlow à modifier régulièrement le format des Tensors. \n",
        "\n",
        "La méthode `tf.reshape` permet de modifier le format d'un Tensor. \n",
        "Ainsi, un Tensor 8x2 peut être converti en Tensor 2x8 ou 4x4 :"
      ]
    },
    {
      "cell_type": "code",
      "metadata": {
        "id": "L05ob6a_G77m",
        "colab": {
          "base_uri": "https://localhost:8080/"
        },
        "outputId": "90c0aefe-ceaf-4b33-d5cd-e802f46a8b5e"
      },
      "source": [
        "with tf.Graph().as_default():\n",
        "  # Create an 8x2 matrix (2-D tensor).\n",
        "  matrix = tf.constant([[1,2], [3,4], [5,6], [7,8],\n",
        "                        [9,10], [11,12], [13, 14], [15,16]], dtype=tf.int32)\n",
        "\n",
        "  # Reshape the 8x2 matrix into a 2x8 matrix.\n",
        "  reshaped_2x8_matrix = tf.reshape(matrix, [2,8])\n",
        "  \n",
        "  # Reshape the 8x2 matrix into a 4x4 matrix\n",
        "  reshaped_4x4_matrix = tf.reshape(matrix, [4,4])\n",
        "\n",
        "  with tf.Session() as sess:\n",
        "    print(\"Original matrix (8x2):\")\n",
        "    print(matrix.eval())\n",
        "    print(\"Reshaped matrix (2x8):\")\n",
        "    print(reshaped_2x8_matrix.eval())\n",
        "    print(\"Reshaped matrix (4x4):\")\n",
        "    print(reshaped_4x4_matrix.eval())"
      ],
      "execution_count": null,
      "outputs": [
        {
          "output_type": "stream",
          "text": [
            "Original matrix (8x2):\n",
            "[[ 1  2]\n",
            " [ 3  4]\n",
            " [ 5  6]\n",
            " [ 7  8]\n",
            " [ 9 10]\n",
            " [11 12]\n",
            " [13 14]\n",
            " [15 16]]\n",
            "Reshaped matrix (2x8):\n",
            "[[ 1  2  3  4  5  6  7  8]\n",
            " [ 9 10 11 12 13 14 15 16]]\n",
            "Reshaped matrix (4x4):\n",
            "[[ 1  2  3  4]\n",
            " [ 5  6  7  8]\n",
            " [ 9 10 11 12]\n",
            " [13 14 15 16]]\n"
          ],
          "name": "stdout"
        }
      ]
    },
    {
      "cell_type": "markdown",
      "metadata": {
        "id": "b6cFa92YGyU5"
      },
      "source": [
        " \n",
        "Vous pouvez également utiliser `tf.reshape` pour modifier le nombre de dimensions (le \\'rang\\') d'un Tensor.\n",
        "Par exemple, le même Tensor 8x2 peut être converti en Tensor 2x2x4 à trois dimensions ou en Tensor une dimension de 16 éléments."
      ]
    },
    {
      "cell_type": "code",
      "metadata": {
        "id": "3MpcwWj9-Sqp"
      },
      "source": [
        "with tf.Graph().as_default():\n",
        "  # Create an 8x2 matrix (2-D tensor).\n",
        "  matrix = tf.constant([[1,2], [3,4], [5,6], [7,8],\n",
        "                        [9,10], [11,12], [13, 14], [15,16]], dtype=tf.int32)\n",
        "\n",
        "  # Reshape the 8x2 matrix into a 3-D 2x2x4 tensor.\n",
        "  reshaped_2x2x4_tensor = tf.reshape(matrix, [2,2,4])\n",
        "  \n",
        "  # Reshape the 8x2 matrix into a 1-D 16-element tensor.\n",
        "  one_dimensional_vector = tf.reshape(matrix, [16])\n",
        "\n",
        "  with tf.Session() as sess:\n",
        "    print(\"Original matrix (8x2):\")\n",
        "    print(matrix.eval())\n",
        "    print(\"Reshaped 3-D tensor (2x2x4):\")\n",
        "    print(reshaped_2x2x4_tensor.eval())\n",
        "    print(\"1-D vector:\")\n",
        "    print(one_dimensional_vector.eval())"
      ],
      "execution_count": null,
      "outputs": []
    },
    {
      "cell_type": "markdown",
      "metadata": {
        "id": "CrpowaWo-VLq"
      },
      "source": [
        " ### Exercice n° 1 : Modifier le format de deux Tensors pour les multiplier\n",
        "\n",
        "L'opération de produit matriciel est impossible sur les deux vecteurs suivants :\n",
        "\n",
        "  *  `a = tf.constant([5, 3, 2, 7, 1, 4])`\n",
        "  *  `b = tf.constant([4, 6, 3])`\n",
        "\n",
        "Modifiez leur format pour les convertir en opérandes compatibles avec l'opération de produit matriciel.\n",
        "Réalisez ensuite cette opération sur les Tensors ainsi modifiés."
      ]
    },
    {
      "cell_type": "code",
      "metadata": {
        "id": "p6idvaeK-Zxq",
        "colab": {
          "base_uri": "https://localhost:8080/"
        },
        "outputId": "b7c46e0f-3977-4add-8013-1862e41d61ac"
      },
      "source": [
        "with tf.Graph().as_default():\r\n",
        "  a = tf.constant([5, 3, 2, 7, 1, 4])\r\n",
        "  b = tf.constant([4, 6, 3])\r\n",
        "\r\n",
        "  a = tf.reshape(a, [2, 3])\r\n",
        "  b = tf.reshape(b, [3, 1])\r\n",
        "\r\n",
        "  res = tf.matmul(a,b)\r\n",
        "\r\n",
        "  with tf.Session() as sess:\r\n",
        "    print(\"Matrix:\")\r\n",
        "    print(a.eval())\r\n",
        "    print(b.eval())\r\n",
        "    print(\"Res:\")\r\n",
        "    print(res.eval())"
      ],
      "execution_count": 6,
      "outputs": [
        {
          "output_type": "stream",
          "text": [
            "Matrix:\n",
            "[[5 3 2]\n",
            " [7 1 4]]\n",
            "[[4]\n",
            " [6]\n",
            " [3]]\n",
            "Res:\n",
            "[[44]\n",
            " [46]]\n"
          ],
          "name": "stdout"
        }
      ]
    },
    {
      "cell_type": "markdown",
      "metadata": {
        "id": "EYzU56M4MG_x"
      },
      "source": [
        " ### Solution\n",
        "\n",
        "Cliquez ci-dessous pour afficher la solution."
      ]
    },
    {
      "cell_type": "code",
      "metadata": {
        "id": "8Sef4d0SMMtk"
      },
      "source": [
        "with tf.Graph().as_default(), tf.Session() as sess:\n",
        "  # Task: Reshape two tensors in order to multiply them\n",
        "  \n",
        "  # Here are the original operands, which are incompatible\n",
        "  # for matrix multiplication:\n",
        "  a = tf.constant([5, 3, 2, 7, 1, 4])\n",
        "  b = tf.constant([4, 6, 3])\n",
        "  # We need to reshape at least one of these operands so that\n",
        "  # the number of columns in the first operand equals the number\n",
        "  # of rows in the second operand.\n",
        "\n",
        "  # Reshape vector \"a\" into a 2-D 2x3 matrix:\n",
        "  reshaped_a = tf.reshape(a, [2,3])\n",
        "\n",
        "  # Reshape vector \"b\" into a 2-D 3x1 matrix:\n",
        "  reshaped_b = tf.reshape(b, [3,1])\n",
        "\n",
        "  # The number of columns in the first matrix now equals\n",
        "  # the number of rows in the second matrix. Therefore, you\n",
        "  # can matrix mutiply the two operands.\n",
        "  c = tf.matmul(reshaped_a, reshaped_b)\n",
        "  print(c.eval())\n",
        "\n",
        "  # An alternate approach: [6,1] x [1, 3] -> [6,3]"
      ],
      "execution_count": null,
      "outputs": []
    },
    {
      "cell_type": "markdown",
      "metadata": {
        "id": "x1JYo7iE2oKk"
      },
      "source": [
        " ## Variables, initialisation et affectation\n",
        "\n",
        "Les opérations réalisées jusqu'à maintenant portaient uniquement sur des valeurs statiques (`tf.constant`). L'appel de la méthode `eval()` renvoyait systématiquement le même résultat. Avec TensorFlow, vous pouvez définir des objets `Variable`, dont la valeur peut changer. \n",
        "\n",
        "Lors de la création d'une variable, vous avez le choix entre définir explicitement sa valeur initiale ou utiliser un initialiseur (comme pour une distribution) :"
      ]
    },
    {
      "cell_type": "code",
      "metadata": {
        "id": "6opLnjfD3PdL"
      },
      "source": [
        "g = tf.Graph()\n",
        "with g.as_default():\n",
        "  # Create a variable with the initial value 3.\n",
        "  v = tf.Variable([3])\n",
        "\n",
        "  # Create a variable of shape [1], with a random initial value,\n",
        "  # sampled from a normal distribution with mean 1 and standard deviation 0.35.\n",
        "  w = tf.Variable(tf.random_normal([1], mean=1.0, stddev=0.35))"
      ],
      "execution_count": 7,
      "outputs": []
    },
    {
      "cell_type": "markdown",
      "metadata": {
        "id": "qDYRXHTA4PTB"
      },
      "source": [
        " L'une des particularités de TensorFlow est que l'**initialisation des variables n'est pas automatique**. Ainsi, le bloc suivant renverra une erreur :"
      ]
    },
    {
      "cell_type": "code",
      "metadata": {
        "id": "d0OX1YRY5PTP",
        "colab": {
          "base_uri": "https://localhost:8080/"
        },
        "outputId": "2a50a39e-cab4-4029-8b05-62a12a33980d"
      },
      "source": [
        "with g.as_default():\n",
        "  with tf.Session() as sess:\n",
        "    try:\n",
        "      v.eval()\n",
        "    except tf.errors.FailedPreconditionError as e:\n",
        "      print(\"Caught expected error: \", e)"
      ],
      "execution_count": 8,
      "outputs": [
        {
          "output_type": "stream",
          "text": [
            "Caught expected error:  Attempting to use uninitialized value Variable\n",
            "\t [[{{node _retval_Variable_0_0}}]]\n"
          ],
          "name": "stdout"
        }
      ]
    },
    {
      "cell_type": "markdown",
      "metadata": {
        "id": "v7_aT7Hr5rnC"
      },
      "source": [
        " Le plus simple pour initialiser une variable consiste à appeler `global_variables_initializer`. La méthode `Session.run()` employée ici équivaut à `eval()`, à peu de chose près."
      ]
    },
    {
      "cell_type": "code",
      "metadata": {
        "id": "z2lvhrxI5zJF",
        "colab": {
          "base_uri": "https://localhost:8080/"
        },
        "outputId": "575d3749-d0a0-4e91-c195-971759132ee6"
      },
      "source": [
        "with g.as_default():\n",
        "  with tf.Session() as sess:\n",
        "    initialization = tf.global_variables_initializer()\n",
        "    sess.run(initialization)\n",
        "    # Now, variables can be accessed normally, and have values assigned to them.\n",
        "    print(v.eval())\n",
        "    print(w.eval())\n"
      ],
      "execution_count": 14,
      "outputs": [
        {
          "output_type": "stream",
          "text": [
            "[3]\n",
            "[1.2769012]\n"
          ],
          "name": "stdout"
        }
      ]
    },
    {
      "cell_type": "markdown",
      "metadata": {
        "id": "0GkYh7jf6JUd"
      },
      "source": [
        " Une fois initialisées, les variables conservent leur valeur pour toute la session (il convient de les réinitialiser au démarrage d'une nouvelle session) :"
      ]
    },
    {
      "cell_type": "code",
      "metadata": {
        "id": "_E8_lhS06IoV",
        "colab": {
          "base_uri": "https://localhost:8080/"
        },
        "outputId": "f031d480-c1c9-4d06-cc6e-f690175dbc80"
      },
      "source": [
        "with g.as_default():\n",
        "  with tf.Session() as sess:\n",
        "    sess.run(tf.global_variables_initializer())\n",
        "    # These three prints will print the same value.\n",
        "    print(w.eval())\n",
        "    print(w.eval())\n",
        "    print(w.eval())"
      ],
      "execution_count": 16,
      "outputs": [
        {
          "output_type": "stream",
          "text": [
            "[0.7955163]\n",
            "[0.7955163]\n",
            "[0.7955163]\n"
          ],
          "name": "stdout"
        }
      ]
    },
    {
      "cell_type": "markdown",
      "metadata": {
        "id": "yrZ31hPw66uy"
      },
      "source": [
        " Pour modifier la valeur d'une variable, utilisez l'opération `assign`. Créer simplement cette opération n'a aucun effet. Comme pour l'initialisation, vous devez exécuter l'opération d'affectation (via `run`) pour pouvoir mettre à jour la valeur de la variable :"
      ]
    },
    {
      "cell_type": "code",
      "metadata": {
        "id": "zD0D1DCR7NBX",
        "colab": {
          "base_uri": "https://localhost:8080/"
        },
        "outputId": "b50e2978-8b90-4449-fd48-1b390126c82e"
      },
      "source": [
        "with g.as_default():\n",
        "  with tf.Session() as sess:\n",
        "    sess.run(tf.global_variables_initializer())\n",
        "    # This should print the variable's initial value.\n",
        "    print(v.eval())\n",
        "\n",
        "    assignment = tf.assign(v, [7])\n",
        "    # The variable has not been changed yet!\n",
        "    print(v.eval())\n",
        "\n",
        "    # Execute the assignment op.\n",
        "    sess.run(assignment)\n",
        "    # Now the variable is updated.\n",
        "    print(v.eval())"
      ],
      "execution_count": 17,
      "outputs": [
        {
          "output_type": "stream",
          "text": [
            "[3]\n",
            "[3]\n",
            "[7]\n"
          ],
          "name": "stdout"
        }
      ]
    },
    {
      "cell_type": "markdown",
      "metadata": {
        "id": "tB78Zq4h78Zr"
      },
      "source": [
        " Chargement, stockage… les thématiques autour des variables ne manquent pas. Pour en savoir plus sur un sujet non abordé dans cette formation, consultez la [documentation TensorFlow](https://www.tensorflow.org/programmers_guide/variables)."
      ]
    },
    {
      "cell_type": "markdown",
      "metadata": {
        "id": "iFIOcnfz_Oqw"
      },
      "source": [
        " ### Exercice n° 2 : Simuler 10 lancers de deux dés\n",
        "\n",
        "Simulez un lancer de dés, qui génère un Tensor `10x3` à deux dimensions :\n",
        "\n",
        "  * Les colonnes `1` et `2` enregistrent un lancer de chaque dé.\n",
        "  * La colonne `3` contient la somme des colonnes `1` et `2`, sur la même ligne.\n",
        "\n",
        "Exemple de valeurs sur la première ligne :\n",
        "\n",
        "  * Colonne `1` : `4`\n",
        "  * Colonne `2` : `3`\n",
        "  * Colonne `3` : `7`\n",
        "\n",
        "Pour effectuer cet exercice, nous vous invitons à consulter la [documentation TensorFlow](https://www.tensorflow.org/api_guides/python/array_ops)."
      ]
    },
    {
      "cell_type": "code",
      "metadata": {
        "id": "ocwT0iXH-nhT",
        "colab": {
          "base_uri": "https://localhost:8080/"
        },
        "outputId": "5ba29c7b-8556-4799-f71b-9133f94e02b2"
      },
      "source": [
        "with g.as_default():\r\n",
        "  dice1 = tf.random_uniform([10, 1], 1, 7, dtype=tf.int32)\r\n",
        "  dice2 = tf.random_uniform([10, 1], 1, 7, dtype=tf.int32)\r\n",
        "  sum = tf.add(dice1, dice2)\r\n",
        "  t = tf.concat([dice1, dice2, sum], axis=1)\r\n",
        "\r\n",
        "  with tf.Session() as sess:\r\n",
        "    sess.run(tf.global_variables_initializer())\r\n",
        "\r\n",
        "    print(t.eval())"
      ],
      "execution_count": 28,
      "outputs": [
        {
          "output_type": "stream",
          "text": [
            "[[6 2 8]\n",
            " [1 3 4]\n",
            " [4 1 5]\n",
            " [1 6 7]\n",
            " [1 1 2]\n",
            " [5 1 6]\n",
            " [2 1 3]\n",
            " [1 4 5]\n",
            " [1 1 2]\n",
            " [2 2 4]]\n"
          ],
          "name": "stdout"
        }
      ]
    },
    {
      "cell_type": "markdown",
      "metadata": {
        "id": "Kt7aojXkR_qS"
      },
      "source": [
        " ### Solution\n",
        "\n",
        "Cliquez ci-dessous pour afficher la solution."
      ]
    },
    {
      "cell_type": "code",
      "metadata": {
        "id": "6UUluecQSCvr",
        "colab": {
          "base_uri": "https://localhost:8080/"
        },
        "outputId": "2c292bbb-2e08-4fc3-ccf4-ed17258e8616"
      },
      "source": [
        "with tf.Graph().as_default(), tf.Session() as sess:\n",
        "  # Task 2: Simulate 10 throws of two dice. Store the results\n",
        "  # in a 10x3 matrix.\n",
        "\n",
        "  # We're going to place dice throws inside two separate\n",
        "  # 10x1 matrices. We could have placed dice throws inside\n",
        "  # a single 10x2 matrix, but adding different columns of\n",
        "  # the same matrix is tricky. We also could have placed\n",
        "  # dice throws inside two 1-D tensors (vectors); doing so\n",
        "  # would require transposing the result.\n",
        "  dice1 = tf.Variable(tf.random_uniform([10, 1],\n",
        "                                        minval=1, maxval=7,\n",
        "                                        dtype=tf.int32))\n",
        "  dice2 = tf.Variable(tf.random_uniform([10, 1],\n",
        "                                        minval=1, maxval=7,\n",
        "                                        dtype=tf.int32))\n",
        "\n",
        "  # We may add dice1 and dice2 since they share the same shape\n",
        "  # and size.\n",
        "  dice_sum = tf.add(dice1, dice2)\n",
        "\n",
        "  # We've got three separate 10x1 matrices. To produce a single\n",
        "  # 10x3 matrix, we'll concatenate them along dimension 1.\n",
        "  resulting_matrix = tf.concat(\n",
        "      values=[dice1, dice2, dice_sum], axis=1)\n",
        "\n",
        "  # The variables haven't been initialized within the graph yet,\n",
        "  # so let's remedy that.\n",
        "  sess.run(tf.global_variables_initializer())\n",
        "\n",
        "  print(resulting_matrix.eval())"
      ],
      "execution_count": 24,
      "outputs": [
        {
          "output_type": "stream",
          "text": [
            "[[ 1  2  3]\n",
            " [ 2  2  4]\n",
            " [ 3  6  9]\n",
            " [ 2  3  5]\n",
            " [ 6  4 10]\n",
            " [ 2  3  5]\n",
            " [ 2  3  5]\n",
            " [ 2  5  7]\n",
            " [ 1  6  7]\n",
            " [ 2  1  3]]\n"
          ],
          "name": "stdout"
        }
      ]
    }
  ]
}